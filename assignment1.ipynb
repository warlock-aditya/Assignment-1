{
 "cells": [
  {
   "cell_type": "code",
   "execution_count": 1,
   "id": "a427eebb-05c0-4350-bfe2-1e6c6c890f7f",
   "metadata": {},
   "outputs": [],
   "source": [
    "#Declare two variables, `x` and `y`, and assign them integer values. Swap the\n",
    "#values of these variables without using any temporary variable.\n",
    "x=2#input 1\n",
    "y=5#input2\n",
    "x,y=y,x#swaping values\n"
   ]
  },
  {
   "cell_type": "code",
   "execution_count": 2,
   "id": "7d737e17-cc04-4b0a-a680-c8cd3a7d4fb2",
   "metadata": {},
   "outputs": [
    {
     "name": "stdin",
     "output_type": "stream",
     "text": [
      "length 5\n",
      "width 7\n"
     ]
    },
    {
     "name": "stdout",
     "output_type": "stream",
     "text": [
      "Area=35\n"
     ]
    }
   ],
   "source": [
    "#Create a program that calculates the area of a rectangle. Take the length and\n",
    "#width as inputs from the user and store them in variables. Calculate and\n",
    "#display the area.\n",
    "x=int(input(\"length\"))#length\n",
    "y=int(input(\"width\"))#bridth\n",
    "A=x*y#area calculation\n",
    "print(\"Area=\"+str(A))\n"
   ]
  },
  {
   "cell_type": "code",
   "execution_count": 3,
   "id": "84202d97-99a0-41f9-9100-a9e0a5ef654c",
   "metadata": {},
   "outputs": [
    {
     "name": "stdin",
     "output_type": "stream",
     "text": [
      "Celsius 27\n"
     ]
    },
    {
     "name": "stdout",
     "output_type": "stream",
     "text": [
      "Temp in farenheit=80.6\n"
     ]
    }
   ],
   "source": [
    "#Write a Python program that converts temperatures from Celsius to\n",
    "#Fahrenheit. Take the temperature in Celsius as input, store it in a variable,\n",
    "#convert it to Fahrenheit, and display the result.\n",
    "c=int(input(\"Celsius\"))#input taking in celsius\n",
    "F=c*(9/5)+32#formula  for fahrenheit conversion\n",
    "print(\"Temp in farenheit=\"+str(F))\n"
   ]
  },
  {
   "cell_type": "code",
   "execution_count": 4,
   "id": "1e788e86-1857-455a-8f63-0e9fd3436d4d",
   "metadata": {},
   "outputs": [
    {
     "name": "stdin",
     "output_type": "stream",
     "text": [
      " 4\n"
     ]
    },
    {
     "name": "stdout",
     "output_type": "stream",
     "text": [
      "1\n"
     ]
    }
   ],
   "source": [
    "#Write a Python program that takes a string as input and prints the length of\n",
    "#the string.\n",
    "x=str(input())#string input\n",
    "y=len(x)#this  will print length of  x string\n",
    "print(y)"
   ]
  },
  {
   "cell_type": "code",
   "execution_count": 5,
   "id": "597e8f5a-d793-482b-bd27-ea709a76c681",
   "metadata": {},
   "outputs": [
    {
     "name": "stdin",
     "output_type": "stream",
     "text": [
      "Enter the string : aditya\n"
     ]
    },
    {
     "name": "stdout",
     "output_type": "stream",
     "text": [
      "Total vowels are :3\n"
     ]
    }
   ],
   "source": [
    "#Create a program that takes a sentence from the user and counts the number\n",
    "#of vowels (a, e, i, o, u) in the string.\n",
    "#take user input\n",
    "String = input('Enter the string :')\n",
    "count = 0\n",
    "#to check for less conditions\n",
    "#keep string in lowercase\n",
    "String = String.lower()\n",
    "for i in String:\n",
    "    if i == 'a' or i == 'e' or i == 'i' or i == 'o' or i == 'u':\n",
    "        #if True\n",
    "        count+=1\n",
    "#check if any vowel found\n",
    "if count == 0:\n",
    "    print('No vowels found')\n",
    "else:\n",
    "    print('Total vowels are :' + str(count))"
   ]
  },
  {
   "cell_type": "code",
   "execution_count": 6,
   "id": "4e09004e-ceb1-45cc-a0ed-3f9e29e33f3c",
   "metadata": {},
   "outputs": [],
   "source": [
    "#reversing string\n",
    "x=str(input())#taking input\n",
    "if x==x[::-1]:#conditioning\n",
    "    print(\"pelindrom\")\n",
    "else:#print in default condition\n",
    "    print(\"not pelindrom\")\n"
   ]
  },
  {
   "cell_type": "code",
   "execution_count": null,
   "id": "6347f443-ed98-4279-bbf7-89115cedcafa",
   "metadata": {},
   "outputs": [],
   "source": [
    "a = \" Hello, World! \"\n",
    "print(a.strip())"
   ]
  }
 ],
 "metadata": {
  "kernelspec": {
   "display_name": "Python 3 (ipykernel)",
   "language": "python",
   "name": "python3"
  },
  "language_info": {
   "codemirror_mode": {
    "name": "ipython",
    "version": 3
   },
   "file_extension": ".py",
   "mimetype": "text/x-python",
   "name": "python",
   "nbconvert_exporter": "python",
   "pygments_lexer": "ipython3",
   "version": "3.10.8"
  }
 },
 "nbformat": 4,
 "nbformat_minor": 5
}
